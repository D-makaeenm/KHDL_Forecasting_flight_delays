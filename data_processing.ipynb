{
 "cells": [
  {
   "cell_type": "code",
   "execution_count": 1,
   "id": "initial_id",
   "metadata": {
    "collapsed": true,
    "ExecuteTime": {
     "end_time": "2024-06-01T09:51:41.246526900Z",
     "start_time": "2024-06-01T09:51:32.198686800Z"
    }
   },
   "outputs": [],
   "source": [
    "import pandas as pd\n",
    "import numpy as np\n",
    "from sklearn.preprocessing import OneHotEncoder, StandardScaler\n",
    "from sklearn.model_selection import train_test_split\n",
    "import tensorflow as tf\n",
    "from tensorflow.keras.models import Sequential\n",
    "from tensorflow.keras.layers import Dense\n",
    "from tensorflow.keras.models import load_model\n",
    "import pickle\n",
    "import matplotlib.pyplot as plt\n",
    "from sklearn.metrics import mean_squared_error, mean_absolute_error"
   ]
  },
  {
   "cell_type": "code",
   "execution_count": 2,
   "outputs": [],
   "source": [
    "# Load dữ liệu\n",
    "flight_data = pd.read_csv(\"flights_sample_3m.csv\")"
   ],
   "metadata": {
    "collapsed": false,
    "ExecuteTime": {
     "end_time": "2024-06-01T09:52:19.463083200Z",
     "start_time": "2024-06-01T09:52:09.134070100Z"
    }
   },
   "id": "e575698ac839af3"
  },
  {
   "cell_type": "code",
   "execution_count": 3,
   "outputs": [
    {
     "data": {
      "text/plain": "      FL_DATE                AIRLINE                AIRLINE_DOT AIRLINE_CODE  \\\n0  2019-01-09  United Air Lines Inc.  United Air Lines Inc.: UA           UA   \n1  2022-11-19   Delta Air Lines Inc.   Delta Air Lines Inc.: DL           DL   \n2  2022-07-22  United Air Lines Inc.  United Air Lines Inc.: UA           UA   \n3  2023-03-06   Delta Air Lines Inc.   Delta Air Lines Inc.: DL           DL   \n4  2020-02-23       Spirit Air Lines       Spirit Air Lines: NK           NK   \n\n   DOT_CODE  FL_NUMBER ORIGIN          ORIGIN_CITY DEST  \\\n0     19977       1562    FLL  Fort Lauderdale, FL  EWR   \n1     19790       1149    MSP      Minneapolis, MN  SEA   \n2     19977        459    DEN           Denver, CO  MSP   \n3     19790       2295    MSP      Minneapolis, MN  SFO   \n4     20416        407    MCO          Orlando, FL  DFW   \n\n               DEST_CITY  ...  DIVERTED  CRS_ELAPSED_TIME  ELAPSED_TIME  \\\n0             Newark, NJ  ...       0.0             186.0         176.0   \n1            Seattle, WA  ...       0.0             235.0         236.0   \n2        Minneapolis, MN  ...       0.0             118.0         112.0   \n3      San Francisco, CA  ...       0.0             260.0         285.0   \n4  Dallas/Fort Worth, TX  ...       0.0             181.0         182.0   \n\n   AIR_TIME  DISTANCE  DELAY_DUE_CARRIER  DELAY_DUE_WEATHER  DELAY_DUE_NAS  \\\n0     153.0    1065.0                NaN                NaN            NaN   \n1     189.0    1399.0                NaN                NaN            NaN   \n2      87.0     680.0                NaN                NaN            NaN   \n3     249.0    1589.0                0.0                0.0           24.0   \n4     153.0     985.0                NaN                NaN            NaN   \n\n   DELAY_DUE_SECURITY  DELAY_DUE_LATE_AIRCRAFT  \n0                 NaN                      NaN  \n1                 NaN                      NaN  \n2                 NaN                      NaN  \n3                 0.0                      0.0  \n4                 NaN                      NaN  \n\n[5 rows x 32 columns]",
      "text/html": "<div>\n<style scoped>\n    .dataframe tbody tr th:only-of-type {\n        vertical-align: middle;\n    }\n\n    .dataframe tbody tr th {\n        vertical-align: top;\n    }\n\n    .dataframe thead th {\n        text-align: right;\n    }\n</style>\n<table border=\"1\" class=\"dataframe\">\n  <thead>\n    <tr style=\"text-align: right;\">\n      <th></th>\n      <th>FL_DATE</th>\n      <th>AIRLINE</th>\n      <th>AIRLINE_DOT</th>\n      <th>AIRLINE_CODE</th>\n      <th>DOT_CODE</th>\n      <th>FL_NUMBER</th>\n      <th>ORIGIN</th>\n      <th>ORIGIN_CITY</th>\n      <th>DEST</th>\n      <th>DEST_CITY</th>\n      <th>...</th>\n      <th>DIVERTED</th>\n      <th>CRS_ELAPSED_TIME</th>\n      <th>ELAPSED_TIME</th>\n      <th>AIR_TIME</th>\n      <th>DISTANCE</th>\n      <th>DELAY_DUE_CARRIER</th>\n      <th>DELAY_DUE_WEATHER</th>\n      <th>DELAY_DUE_NAS</th>\n      <th>DELAY_DUE_SECURITY</th>\n      <th>DELAY_DUE_LATE_AIRCRAFT</th>\n    </tr>\n  </thead>\n  <tbody>\n    <tr>\n      <th>0</th>\n      <td>2019-01-09</td>\n      <td>United Air Lines Inc.</td>\n      <td>United Air Lines Inc.: UA</td>\n      <td>UA</td>\n      <td>19977</td>\n      <td>1562</td>\n      <td>FLL</td>\n      <td>Fort Lauderdale, FL</td>\n      <td>EWR</td>\n      <td>Newark, NJ</td>\n      <td>...</td>\n      <td>0.0</td>\n      <td>186.0</td>\n      <td>176.0</td>\n      <td>153.0</td>\n      <td>1065.0</td>\n      <td>NaN</td>\n      <td>NaN</td>\n      <td>NaN</td>\n      <td>NaN</td>\n      <td>NaN</td>\n    </tr>\n    <tr>\n      <th>1</th>\n      <td>2022-11-19</td>\n      <td>Delta Air Lines Inc.</td>\n      <td>Delta Air Lines Inc.: DL</td>\n      <td>DL</td>\n      <td>19790</td>\n      <td>1149</td>\n      <td>MSP</td>\n      <td>Minneapolis, MN</td>\n      <td>SEA</td>\n      <td>Seattle, WA</td>\n      <td>...</td>\n      <td>0.0</td>\n      <td>235.0</td>\n      <td>236.0</td>\n      <td>189.0</td>\n      <td>1399.0</td>\n      <td>NaN</td>\n      <td>NaN</td>\n      <td>NaN</td>\n      <td>NaN</td>\n      <td>NaN</td>\n    </tr>\n    <tr>\n      <th>2</th>\n      <td>2022-07-22</td>\n      <td>United Air Lines Inc.</td>\n      <td>United Air Lines Inc.: UA</td>\n      <td>UA</td>\n      <td>19977</td>\n      <td>459</td>\n      <td>DEN</td>\n      <td>Denver, CO</td>\n      <td>MSP</td>\n      <td>Minneapolis, MN</td>\n      <td>...</td>\n      <td>0.0</td>\n      <td>118.0</td>\n      <td>112.0</td>\n      <td>87.0</td>\n      <td>680.0</td>\n      <td>NaN</td>\n      <td>NaN</td>\n      <td>NaN</td>\n      <td>NaN</td>\n      <td>NaN</td>\n    </tr>\n    <tr>\n      <th>3</th>\n      <td>2023-03-06</td>\n      <td>Delta Air Lines Inc.</td>\n      <td>Delta Air Lines Inc.: DL</td>\n      <td>DL</td>\n      <td>19790</td>\n      <td>2295</td>\n      <td>MSP</td>\n      <td>Minneapolis, MN</td>\n      <td>SFO</td>\n      <td>San Francisco, CA</td>\n      <td>...</td>\n      <td>0.0</td>\n      <td>260.0</td>\n      <td>285.0</td>\n      <td>249.0</td>\n      <td>1589.0</td>\n      <td>0.0</td>\n      <td>0.0</td>\n      <td>24.0</td>\n      <td>0.0</td>\n      <td>0.0</td>\n    </tr>\n    <tr>\n      <th>4</th>\n      <td>2020-02-23</td>\n      <td>Spirit Air Lines</td>\n      <td>Spirit Air Lines: NK</td>\n      <td>NK</td>\n      <td>20416</td>\n      <td>407</td>\n      <td>MCO</td>\n      <td>Orlando, FL</td>\n      <td>DFW</td>\n      <td>Dallas/Fort Worth, TX</td>\n      <td>...</td>\n      <td>0.0</td>\n      <td>181.0</td>\n      <td>182.0</td>\n      <td>153.0</td>\n      <td>985.0</td>\n      <td>NaN</td>\n      <td>NaN</td>\n      <td>NaN</td>\n      <td>NaN</td>\n      <td>NaN</td>\n    </tr>\n  </tbody>\n</table>\n<p>5 rows × 32 columns</p>\n</div>"
     },
     "execution_count": 3,
     "metadata": {},
     "output_type": "execute_result"
    }
   ],
   "source": [
    "flight_data.head()"
   ],
   "metadata": {
    "collapsed": false,
    "ExecuteTime": {
     "end_time": "2024-06-01T09:52:19.497692100Z",
     "start_time": "2024-06-01T09:52:19.465083300Z"
    }
   },
   "id": "e8edff9384acce20"
  },
  {
   "cell_type": "code",
   "execution_count": 4,
   "outputs": [
    {
     "data": {
      "text/plain": "(3000000, 32)"
     },
     "execution_count": 4,
     "metadata": {},
     "output_type": "execute_result"
    }
   ],
   "source": [
    "flight_data.shape"
   ],
   "metadata": {
    "collapsed": false,
    "ExecuteTime": {
     "end_time": "2024-06-01T09:52:19.525886600Z",
     "start_time": "2024-06-01T09:52:19.496690100Z"
    }
   },
   "id": "aa4db11367e0104d"
  },
  {
   "cell_type": "markdown",
   "source": [
    "## Tách dữ liệu chỉ riêng năm 2023"
   ],
   "metadata": {
    "collapsed": false
   },
   "id": "7266c4201adbc5f7"
  },
  {
   "cell_type": "code",
   "execution_count": 5,
   "outputs": [],
   "source": [
    "# Lọc dữ liệu năm 2023\n",
    "flight_data_2023 = flight_data[flight_data['FL_DATE'].str.startswith('2023')]"
   ],
   "metadata": {
    "collapsed": false,
    "ExecuteTime": {
     "end_time": "2024-06-01T09:52:20.545680200Z",
     "start_time": "2024-06-01T09:52:19.514256800Z"
    }
   },
   "id": "e2f2c898918bee94"
  },
  {
   "cell_type": "code",
   "execution_count": 6,
   "outputs": [],
   "source": [
    "flight_data_2023.to_csv(r'C:\\pycharm\\Flight-delay-forecast-master\\flight_data_2023.csv', index=False)"
   ],
   "metadata": {
    "collapsed": false,
    "ExecuteTime": {
     "end_time": "2024-06-01T09:52:26.495095400Z",
     "start_time": "2024-06-01T09:52:20.544684400Z"
    }
   },
   "id": "b39d4b4d0cb499c6"
  },
  {
   "cell_type": "code",
   "execution_count": 7,
   "outputs": [
    {
     "data": {
      "text/plain": "(463484, 32)"
     },
     "execution_count": 7,
     "metadata": {},
     "output_type": "execute_result"
    }
   ],
   "source": [
    "flight_data_2023.shape"
   ],
   "metadata": {
    "collapsed": false,
    "ExecuteTime": {
     "end_time": "2024-06-01T09:52:26.513175600Z",
     "start_time": "2024-06-01T09:52:26.497683800Z"
    }
   },
   "id": "3afcbbcd8e77399e"
  },
  {
   "cell_type": "code",
   "execution_count": 37,
   "outputs": [],
   "source": [
    "# Loại bỏ các cột không cần thiết\n",
    "flight_data_2023 = flight_data_2023.drop(columns=['AIRLINE_DOT', 'AIRLINE_CODE', 'DOT_CODE', 'ORIGIN_CITY', 'DEST_CITY', 'CANCELLED', 'CANCELLATION_CODE', 'DIVERTED', 'FL_DATE'])\n",
    "flight_data_2023 = flight_data_2023.dropna()"
   ],
   "metadata": {
    "collapsed": false,
    "ExecuteTime": {
     "end_time": "2024-05-31T21:12:13.638603400Z",
     "start_time": "2024-05-31T21:12:13.512471Z"
    }
   },
   "id": "3e9e632ae8bea63"
  },
  {
   "cell_type": "code",
   "execution_count": 38,
   "outputs": [],
   "source": [
    "# One-hot encoding\n",
    "categorical_features = ['AIRLINE', 'ORIGIN', 'DEST']\n",
    "encoder = OneHotEncoder(sparse_output=False)\n",
    "encoded_features = pd.DataFrame(encoder.fit_transform(flight_data_2023[categorical_features]))\n",
    "encoded_features.columns = encoder.get_feature_names_out(categorical_features)\n",
    "encoded_features.index = flight_data_2023.index"
   ],
   "metadata": {
    "collapsed": false,
    "ExecuteTime": {
     "end_time": "2024-05-31T21:12:13.821415600Z",
     "start_time": "2024-05-31T21:12:13.635213500Z"
    }
   },
   "id": "5f21fcf9ab3ca8cf"
  },
  {
   "cell_type": "code",
   "execution_count": 39,
   "outputs": [],
   "source": [
    "# Kết hợp dữ liệu đã mã hóa với các cột khác\n",
    "data = flight_data_2023.drop(columns=categorical_features)\n",
    "data = pd.concat([data, encoded_features], axis=1)"
   ],
   "metadata": {
    "collapsed": false,
    "ExecuteTime": {
     "end_time": "2024-05-31T21:12:14.566160400Z",
     "start_time": "2024-05-31T21:12:13.823420100Z"
    }
   },
   "id": "b8333ab2b9d556f0"
  },
  {
   "cell_type": "code",
   "execution_count": 40,
   "outputs": [],
   "source": [
    "# Chuyển tất cả các cột dữ liệu sang kiểu float\n",
    "data = data.astype(float)"
   ],
   "metadata": {
    "collapsed": false,
    "ExecuteTime": {
     "end_time": "2024-05-31T21:12:14.751145100Z",
     "start_time": "2024-05-31T21:12:14.546149600Z"
    }
   },
   "id": "951e462fd36018fe"
  },
  {
   "cell_type": "code",
   "execution_count": 41,
   "outputs": [],
   "source": [
    "# Chuẩn hóa các cột số\n",
    "numeric_features = ['CRS_DEP_TIME', 'DEP_TIME', 'DEP_DELAY', 'TAXI_OUT', 'WHEELS_OFF', 'WHEELS_ON', 'TAXI_IN',\n",
    "                    'CRS_ARR_TIME', 'ARR_TIME', 'CRS_ELAPSED_TIME', 'ELAPSED_TIME', 'AIR_TIME',\n",
    "                    'DISTANCE', 'DELAY_DUE_CARRIER', 'DELAY_DUE_WEATHER', 'DELAY_DUE_NAS', 'DELAY_DUE_SECURITY',\n",
    "                    'DELAY_DUE_LATE_AIRCRAFT']\n",
    "scaler = StandardScaler()\n",
    "data[numeric_features] = scaler.fit_transform(data[numeric_features])"
   ],
   "metadata": {
    "collapsed": false,
    "ExecuteTime": {
     "end_time": "2024-05-31T21:12:14.824613200Z",
     "start_time": "2024-05-31T21:12:14.742726300Z"
    }
   },
   "id": "5df285ead9cb0bf9"
  },
  {
   "cell_type": "code",
   "execution_count": 42,
   "outputs": [],
   "source": [
    "# Tách dữ liệu thành tập huấn luyện và kiểm tra\n",
    "X = data.drop(columns=['ARR_DELAY'])\n",
    "y = data['ARR_DELAY']\n",
    "X_train, X_test, y_train, y_test = train_test_split(X, y, test_size=0.2, random_state=42)\n",
    "# Xây dựng mô hình ANN\n",
    "model = Sequential([\n",
    "    Dense(64, activation='relu', input_shape=(X_train.shape[1],)),\n",
    "    Dense(64, activation='relu'),\n",
    "    Dense(1)\n",
    "])"
   ],
   "metadata": {
    "collapsed": false,
    "ExecuteTime": {
     "end_time": "2024-05-31T21:12:16.138494800Z",
     "start_time": "2024-05-31T21:12:14.818967500Z"
    }
   },
   "id": "7b6833fbde6908e4"
  },
  {
   "cell_type": "code",
   "execution_count": 43,
   "outputs": [
    {
     "name": "stdout",
     "output_type": "stream",
     "text": [
      "Epoch 1/20\n",
      "2094/2094 [==============================] - 4s 2ms/step - loss: 4759.2754 - val_loss: 1148.4391\n",
      "Epoch 2/20\n",
      "2094/2094 [==============================] - 3s 1ms/step - loss: 107.0954 - val_loss: 20.3146\n",
      "Epoch 3/20\n",
      "2094/2094 [==============================] - 3s 1ms/step - loss: 75.4161 - val_loss: 68.1885\n",
      "Epoch 4/20\n",
      "2094/2094 [==============================] - 3s 2ms/step - loss: 55.8969 - val_loss: 32.9734\n",
      "Epoch 5/20\n",
      "2094/2094 [==============================] - 3s 2ms/step - loss: 32.8796 - val_loss: 16.7143\n",
      "Epoch 6/20\n",
      "2094/2094 [==============================] - 3s 1ms/step - loss: 36.3645 - val_loss: 21.5972\n",
      "Epoch 7/20\n",
      "2094/2094 [==============================] - 3s 1ms/step - loss: 26.8267 - val_loss: 20.2322\n",
      "Epoch 8/20\n",
      "2094/2094 [==============================] - 3s 2ms/step - loss: 37.5700 - val_loss: 3.4890\n",
      "Epoch 9/20\n",
      "2094/2094 [==============================] - 3s 1ms/step - loss: 18.3624 - val_loss: 18.0357\n",
      "Epoch 10/20\n",
      "2094/2094 [==============================] - 4s 2ms/step - loss: 19.7613 - val_loss: 1.4904\n",
      "Epoch 11/20\n",
      "2094/2094 [==============================] - 3s 2ms/step - loss: 13.8639 - val_loss: 1.8681\n",
      "Epoch 12/20\n",
      "2094/2094 [==============================] - 3s 2ms/step - loss: 15.8949 - val_loss: 6.8963\n",
      "Epoch 13/20\n",
      "2094/2094 [==============================] - 3s 2ms/step - loss: 12.7876 - val_loss: 125.0678\n",
      "Epoch 14/20\n",
      "2094/2094 [==============================] - 3s 2ms/step - loss: 14.1777 - val_loss: 4.2919\n",
      "Epoch 15/20\n",
      "2094/2094 [==============================] - 3s 2ms/step - loss: 9.4477 - val_loss: 2.4182\n",
      "Epoch 16/20\n",
      "2094/2094 [==============================] - 3s 2ms/step - loss: 11.0201 - val_loss: 2.7644\n",
      "Epoch 17/20\n",
      "2094/2094 [==============================] - 4s 2ms/step - loss: 16.6835 - val_loss: 0.5814\n",
      "Epoch 18/20\n",
      "2094/2094 [==============================] - 4s 2ms/step - loss: 13.7430 - val_loss: 0.6684\n",
      "Epoch 19/20\n",
      "2094/2094 [==============================] - 3s 2ms/step - loss: 7.1968 - val_loss: 4.4019\n",
      "Epoch 20/20\n",
      "2094/2094 [==============================] - 4s 2ms/step - loss: 8.6459 - val_loss: 27.8350\n"
     ]
    },
    {
     "data": {
      "text/plain": "<keras.callbacks.History at 0x18871bd11b0>"
     },
     "execution_count": 43,
     "metadata": {},
     "output_type": "execute_result"
    }
   ],
   "source": [
    "# Biên dịch mô hình\n",
    "model.compile(optimizer='adam', loss='mse')\n",
    "\n",
    "# Huấn luyện mô hình\n",
    "model.fit(X_train, y_train, epochs=20, validation_split=0.2)"
   ],
   "metadata": {
    "collapsed": false,
    "ExecuteTime": {
     "end_time": "2024-05-31T21:13:24.085383300Z",
     "start_time": "2024-05-31T21:12:16.146462700Z"
    }
   },
   "id": "322a9e7115a2c8d0"
  },
  {
   "cell_type": "code",
   "execution_count": 44,
   "outputs": [
    {
     "name": "stdout",
     "output_type": "stream",
     "text": [
      "Model training and saving completed.\n"
     ]
    }
   ],
   "source": [
    "# Lưu mô hình và các đối tượng encoder, scaler\n",
    "model.save('flight_delay_model.h5')\n",
    "with open('encoder.pkl', 'wb') as f:\n",
    "    pickle.dump(encoder, f)\n",
    "with open('scaler.pkl', 'wb') as f:\n",
    "    pickle.dump(scaler, f)\n",
    "\n",
    "# Lưu tên các cột trong X_train\n",
    "X_train_columns = X_train.columns.tolist()\n",
    "with open('X_train_columns.pkl', 'wb') as f:\n",
    "    pickle.dump(X_train_columns, f)\n",
    "\n",
    "print(\"Model training and saving completed.\")"
   ],
   "metadata": {
    "collapsed": false,
    "ExecuteTime": {
     "end_time": "2024-05-31T21:13:24.335095100Z",
     "start_time": "2024-05-31T21:13:24.099991900Z"
    }
   },
   "id": "f65782e9689267b8"
  },
  {
   "cell_type": "code",
   "execution_count": 45,
   "outputs": [
    {
     "name": "stdout",
     "output_type": "stream",
     "text": [
      "655/655 [==============================] - 1s 1ms/step\n",
      "MSE: 28.715972254830326\n",
      "MAE: 4.371414477297118\n"
     ]
    }
   ],
   "source": [
    "# Đánh giá mô hình\n",
    "y_pred = model.predict(X_test)\n",
    "mse = mean_squared_error(y_test, y_pred)\n",
    "mae = mean_absolute_error(y_test, y_pred)\n",
    "\n",
    "print(f'MSE: {mse}')\n",
    "print(f'MAE: {mae}')"
   ],
   "metadata": {
    "collapsed": false,
    "ExecuteTime": {
     "end_time": "2024-05-31T21:13:25.625267300Z",
     "start_time": "2024-05-31T21:13:24.340215200Z"
    }
   },
   "id": "27a000c3ff7a7b17"
  },
  {
   "cell_type": "code",
   "execution_count": 46,
   "outputs": [
    {
     "name": "stdout",
     "output_type": "stream",
     "text": [
      "Số lượng loại hãng hàng không: 15\n",
      "Số lượng loại điểm xuất phát: 343\n",
      "Số lượng loại điểm đến: 343\n"
     ]
    }
   ],
   "source": [
    "# Số lượng loại hãng hàng không\n",
    "num_unique_airlines = flight_data_2023['AIRLINE'].nunique()\n",
    "\n",
    "# Số lượng loại điểm xuất phát\n",
    "num_unique_origins = flight_data_2023['ORIGIN'].nunique()\n",
    "\n",
    "# Số lượng loại điểm đến\n",
    "num_unique_destinations = flight_data_2023['DEST'].nunique()\n",
    "\n",
    "print(\"Số lượng loại hãng hàng không:\", num_unique_airlines)\n",
    "print(\"Số lượng loại điểm xuất phát:\", num_unique_origins)\n",
    "print(\"Số lượng loại điểm đến:\", num_unique_destinations)\n"
   ],
   "metadata": {
    "collapsed": false,
    "ExecuteTime": {
     "end_time": "2024-05-31T21:13:25.701604200Z",
     "start_time": "2024-05-31T21:13:25.641169500Z"
    }
   },
   "id": "59066da742ee60ca"
  },
  {
   "cell_type": "code",
   "execution_count": 47,
   "outputs": [
    {
     "name": "stdout",
     "output_type": "stream",
     "text": [
      "Các loại hãng hàng không: ['Delta Air Lines Inc.' 'Republic Airline' 'Spirit Air Lines'\n",
      " 'United Air Lines Inc.' 'American Airlines Inc.' 'JetBlue Airways'\n",
      " 'Hawaiian Airlines Inc.' 'Alaska Airlines Inc.' 'Frontier Airlines Inc.'\n",
      " 'SkyWest Airlines Inc.' 'Envoy Air' 'Southwest Airlines Co.'\n",
      " 'Allegiant Air' 'Endeavor Air Inc.' 'PSA Airlines Inc.']\n",
      "Các loại điểm xuất phát: ['MSP' 'DFW' 'EWR' 'SFO' 'JFK' 'MCO' 'MIA' 'TPA' 'BOS' 'DCA' 'SJC' 'SEA'\n",
      " 'STL' 'MSY' 'MCI' 'SJU' 'ORD' 'DEN' 'TUS' 'LAS' 'MKE' 'PGD' 'FLL' 'LGA'\n",
      " 'BNA' 'MDW' 'AUS' 'IAH' 'MYR' 'DAL' 'ATL' 'CMH' 'CLT' 'CVG' 'SAN' 'PHX'\n",
      " 'OAK' 'DTW' 'SCE' 'BDL' 'RDU' 'BWI' 'MSO' 'ATW' 'COS' 'SDF' 'PHL' 'LEX'\n",
      " 'ROC' 'SNA' 'BUR' 'SLC' 'OGG' 'SAV' 'HOU' 'JAX' 'MHT' 'IAD' 'BHM' 'HPN'\n",
      " 'BIL' 'LAX' 'MDT' 'TLH' 'ACY' 'PIT' 'STT' 'ECP' 'GSP' 'PNS' 'OMA' 'SMF'\n",
      " 'FAR' 'CID' 'ELP' 'PBI' 'MFR' 'RIC' 'MAF' 'PDX' 'BLI' 'MEM' 'GRR' 'IND'\n",
      " 'OKC' 'HSV' 'RNO' 'SBN' 'SFB' 'CHS' 'RSW' 'SAF' 'PAE' 'TYS' 'JAN' 'ISP'\n",
      " 'HNL' 'PSG' 'HYS' 'SAT' 'CAE' 'EUG' 'ONT' 'ABQ' 'LIH' 'ICT' 'ORF' 'MCW'\n",
      " 'MLI' 'SYR' 'BOI' 'BFL' 'AGS' 'MSN' 'ILM' 'SGF' 'PSP' 'LGB' 'BQN' 'SHV'\n",
      " 'ANC' 'PVU' 'LCK' 'HDN' 'DSM' 'ALB' 'BTR' 'AMA' 'STS' 'AVL' 'CHA' 'BTV'\n",
      " 'CLE' 'CKB' 'IDA' 'ADQ' 'MVY' 'PWM' 'ACV' 'PIA' 'PSE' 'ASE' 'PBG' 'JAC'\n",
      " 'PVD' 'GPT' 'BUF' 'AZA' 'CDV' 'KTN' 'AEX' 'RDM' 'LIT' 'EGE' 'GEG' 'KOA'\n",
      " 'CAK' 'DRT' 'FWA' 'GNV' 'EKO' 'HGR' 'MOT' 'XWA' 'HRL' 'BZN' 'TUL' 'DAY'\n",
      " 'ROA' 'ITO' 'SRQ' 'PPG' 'JNU' 'XNA' 'GCC' 'VLD' 'GSO' 'VPS' 'SBA' 'FSD'\n",
      " 'PSM' 'PIE' 'DAB' 'RFD' 'LBB' 'ABE' 'RDD' 'MRY' 'GTR' 'BGR' 'MTJ' 'LFT'\n",
      " 'GRK' 'BMI' 'STX' 'BIS' 'GTF' 'GFK' 'SLN' 'FAT' 'AVP' 'TVC' 'SPS' 'SPI'\n",
      " 'EYW' 'YAK' 'CRW' 'MOB' 'FCA' 'SUN' 'IMT' 'SBP' 'ABR' 'TRI' 'PRC' 'GRB'\n",
      " 'DRO' 'CWA' 'DVL' 'FSM' 'ABY' 'BLV' 'CRP' 'PSC' 'ELM' 'RAP' 'COU' 'DHN'\n",
      " 'YUM' 'EVV' 'ACK' 'DDC' 'AKN' 'MLB' 'GGG' 'GRI' 'ABI' 'CLL' 'TXK' 'MEI'\n",
      " 'USA' 'MQT' 'LBE' 'CPR' 'WRG' 'FNT' 'SCK' 'DLH' 'GJT' 'SIT' 'BET' 'APN'\n",
      " 'TOL' 'HHH' 'FAI' 'JST' 'MFE' 'RST' 'HYA' 'BJI' 'OME' 'SUX' 'ACT' 'SJT'\n",
      " 'HTS' 'SGU' 'HLN' 'LCH' 'BRO' 'CMI' 'SCC' 'ROW' 'OTZ' 'MLU' 'ERI' 'SWO'\n",
      " 'ESC' 'GCK' 'VEL' 'FAY' 'RHI' 'PIB' 'ORH' 'TYR' 'TTN' 'IAG' 'MGM' 'CYS'\n",
      " 'CHO' 'SWF' 'PGV' 'OAJ' 'LRD' 'LSE' 'FOD' 'DEC' 'JMS' 'CDC' 'SPN' 'LWS'\n",
      " 'LAN' 'LNK' 'CMX' 'GUC' 'CIU' 'CSG' 'LAW' 'CNY' 'BGM' 'OTH' 'VCT' 'LBL'\n",
      " 'LAR' 'BRW' 'FLG' 'ALW' 'TWF' 'JLN' 'MBS' 'INL' 'ITH' 'LBF' 'PLN' 'BFF'\n",
      " 'MHK' 'RKS' 'PIH' 'OWB' 'DLG' 'BQK' 'SMX' 'BRD' 'AZO' 'BPT' 'HIB' 'DIK'\n",
      " 'GUM' 'BIH' 'RIW' 'STC' 'ADK' 'SHR' 'BTM']\n",
      "Các loại điểm đến: ['SFO' 'EWR' 'LAX' 'ORD' 'CLT' 'BQN' 'IAH' 'AUS' 'MIA' 'ATL' 'TPA' 'OGG'\n",
      " 'LAS' 'BUR' 'MCO' 'BOS' 'JFK' 'LGA' 'FLL' 'SAT' 'EGE' 'PHX' 'MSO' 'MEM'\n",
      " 'IND' 'PIA' 'DFW' 'TUL' 'DEN' 'SAN' 'SEA' 'CHO' 'PIT' 'MYR' 'BNA' 'FLG'\n",
      " 'BOI' 'SLC' 'CMH' 'MKE' 'CSG' 'CVG' 'BMI' 'RDU' 'MSY' 'MSP' 'BWI' 'SRQ'\n",
      " 'CAE' 'ROA' 'ORF' 'SYR' 'DCA' 'DTW' 'MDW' 'SMF' 'RSW' 'BUF' 'PAE' 'LGB'\n",
      " 'PNS' 'PHL' 'MHT' 'RNO' 'TUS' 'TYS' 'XNA' 'COS' 'LBB' 'PBI' 'CLE' 'GRR'\n",
      " 'HOU' 'IAD' 'FAT' 'DAB' 'LIH' 'GSP' 'GRK' 'OAK' 'OKC' 'SJC' 'BZN' 'MCI'\n",
      " 'HNL' 'HRL' 'SNA' 'DAL' 'PDX' 'ACY' 'MGM' 'BLI' 'SAV' 'LIT' 'TTN' 'FSM'\n",
      " 'MAF' 'DRO' 'ESC' 'EUG' 'OMA' 'EYW' 'ITO' 'WRG' 'RAP' 'LEX' 'AVL' 'FAI'\n",
      " 'BDL' 'STT' 'SJU' 'GSO' 'FOD' 'PSC' 'CID' 'PIE' 'BTV' 'JAX' 'ATW' 'ELP'\n",
      " 'CHS' 'ROC' 'SDF' 'HPN' 'ACV' 'MLI' 'ONT' 'STL' 'PWM' 'PSP' 'AZO' 'SCC'\n",
      " 'ABQ' 'PGD' 'MFR' 'ALB' 'MLB' 'SGF' 'FAR' 'DSM' 'RIC' 'ASE' 'AZA' 'LFT'\n",
      " 'ILM' 'DEC' 'FNT' 'PVD' 'JNU' 'ANC' 'BHM' 'SGU' 'LNK' 'RIW' 'GNV' 'JAC'\n",
      " 'GCK' 'AVP' 'ACK' 'PVU' 'HSV' 'GEG' 'YAK' 'CAK' 'KOA' 'GJT' 'BRO' 'CHA'\n",
      " 'MDT' 'ABE' 'FWA' 'MTJ' 'CRP' 'SFB' 'DLH' 'FSD' 'MSN' 'JAN' 'TVC' 'VPS'\n",
      " 'SBN' 'RDM' 'AMA' 'CMI' 'SIT' 'AGS' 'ICT' 'LCH' 'VEL' 'SPI' 'SBP' 'ADQ'\n",
      " 'GTF' 'SHV' 'KTN' 'TXK' 'GCC' 'BFL' 'ECP' 'GRB' 'HYS' 'DAY' 'BGM' 'SCE'\n",
      " 'GPT' 'CNY' 'PIB' 'TLH' 'MRY' 'AEX' 'EVV' 'SCK' 'BJI' 'SAF' 'XWA' 'HIB'\n",
      " 'MFE' 'STX' 'ABI' 'SBA' 'CRW' 'DDC' 'ISP' 'RST' 'LBL' 'BTR' 'CDC' 'CIU'\n",
      " 'MEI' 'HTS' 'HHH' 'CPR' 'IDA' 'FCA' 'COU' 'RFD' 'ABY' 'PSG' 'SJT' 'BRD'\n",
      " 'BIL' 'SUX' 'APN' 'FAY' 'MOT' 'SMX' 'LAN' 'ELM' 'LBE' 'SWF' 'CDV' 'STS'\n",
      " 'BQK' 'HLN' 'LAW' 'ACT' 'LCK' 'OTZ' 'PLN' 'BGR' 'ORH' 'BIS' 'GFK' 'MOB'\n",
      " 'CMX' 'PSE' 'SUN' 'ABR' 'YUM' 'WYS' 'MBS' 'TYR' 'RDD' 'IMT' 'HDN' 'CYS'\n",
      " 'ROW' 'SPS' 'JST' 'BLV' 'GTR' 'MVY' 'MQT' 'USA' 'DHN' 'DIK' 'TRI' 'BET'\n",
      " 'VCT' 'PRC' 'OME' 'SHR' 'GUM' 'MCW' 'CKB' 'JLN' 'BIH' 'DVL' 'SLN' 'TOL'\n",
      " 'LWS' 'LBF' 'OAJ' 'GRI' 'SWO' 'GUC' 'AKN' 'MLU' 'RHI' 'ALO' 'CLL' 'EKO'\n",
      " 'PGV' 'BRW' 'ITH' 'BFF' 'LAR' 'MHK' 'DRT' 'LRD' 'EWN' 'BTM' 'ERI' 'CWA'\n",
      " 'INL' 'RKS' 'PIH' 'BPT' 'OTH' 'PPG' 'GGG' 'VLD' 'PBG' 'HYA' 'SPN' 'LSE'\n",
      " 'JMS' 'PSM' 'HGR' 'IAG' 'DLG' 'ALW' 'OWB']\n"
     ]
    }
   ],
   "source": [
    "# Hiển thị tất cả các loại hãng hàng không\n",
    "unique_airlines = flight_data_2023['AIRLINE'].unique()\n",
    "print(\"Các loại hãng hàng không:\", unique_airlines)\n",
    "\n",
    "# Hiển thị tất cả các loại điểm xuất phát\n",
    "unique_origins = flight_data_2023['ORIGIN'].unique()\n",
    "print(\"Các loại điểm xuất phát:\", unique_origins)\n",
    "\n",
    "# Hiển thị tất cả các loại điểm đến\n",
    "unique_destinations = flight_data_2023['DEST'].unique()\n",
    "print(\"Các loại điểm đến:\", unique_destinations)\n"
   ],
   "metadata": {
    "collapsed": false,
    "ExecuteTime": {
     "end_time": "2024-05-31T21:13:25.746389200Z",
     "start_time": "2024-05-31T21:13:25.708068800Z"
    }
   },
   "id": "5d179c852e48edd5"
  },
  {
   "cell_type": "code",
   "execution_count": 48,
   "outputs": [],
   "source": [
    "# Tải mô hình và các đối tượng encoder, scaler, và tên các cột\n",
    "model = load_model('flight_delay_model.h5')\n",
    "with open('encoder.pkl', 'rb') as f:\n",
    "    encoder = pickle.load(f)\n",
    "with open('scaler.pkl', 'rb') as f:\n",
    "    scaler = pickle.load(f)\n",
    "with open('X_train_columns.pkl', 'rb') as f:\n",
    "    X_train_columns = pickle.load(f)\n",
    "\n",
    "# Định nghĩa lại categorical_features và numeric_features\n",
    "categorical_features = ['AIRLINE', 'ORIGIN', 'DEST']\n",
    "numeric_features = ['CRS_DEP_TIME', 'DEP_TIME', 'DEP_DELAY', 'TAXI_OUT', 'WHEELS_OFF', 'WHEELS_ON', 'TAXI_IN',\n",
    "                    'CRS_ARR_TIME', 'ARR_TIME', 'CRS_ELAPSED_TIME', 'ELAPSED_TIME', 'AIR_TIME',\n",
    "                    'DISTANCE', 'DELAY_DUE_CARRIER', 'DELAY_DUE_WEATHER', 'DELAY_DUE_NAS', 'DELAY_DUE_SECURITY',\n",
    "                    'DELAY_DUE_LATE_AIRCRAFT']\n",
    "\n",
    "# Tạo một số dữ liệu mới cho dữ liệu test\n",
    "test_data_new = pd.DataFrame({\n",
    "    'AIRLINE': ['Delta Air Lines Inc.', 'American Airlines Inc.'],\n",
    "    'ORIGIN': ['MSP', 'LAX'],\n",
    "    'DEST': ['SFO', 'JFK'],\n",
    "    'CRS_DEP_TIME': [12.0, 15.0],\n",
    "    'DISTANCE': [1500, 2500],\n",
    "    'CRS_ELAPSED_TIME': [240, 300],\n",
    "    'DEP_TIME': [10, 13],\n",
    "    'DEP_DELAY': [2, 3],\n",
    "    'TAXI_OUT': [20, 25],\n",
    "    'WHEELS_OFF': [30, 38],\n",
    "    'WHEELS_ON': [45, 50],\n",
    "    'TAXI_IN': [8, 10],\n",
    "    'CRS_ARR_TIME': [50, 55],\n",
    "    'ARR_TIME': [53, 58],\n",
    "    'ELAPSED_TIME': [263, 305],\n",
    "    'AIR_TIME': [235, 280],\n",
    "    'DELAY_DUE_CARRIER': [5, 7],\n",
    "    'DELAY_DUE_WEATHER': [0, 0],\n",
    "    'DELAY_DUE_NAS': [0, 0],\n",
    "    'DELAY_DUE_SECURITY': [0, 0],\n",
    "    'DELAY_DUE_LATE_AIRCRAFT': [0, 0]\n",
    "})"
   ],
   "metadata": {
    "collapsed": false,
    "ExecuteTime": {
     "end_time": "2024-05-31T21:13:25.887112600Z",
     "start_time": "2024-05-31T21:13:25.756994900Z"
    }
   },
   "id": "36d2796652d25ffe"
  },
  {
   "cell_type": "code",
   "execution_count": 49,
   "outputs": [],
   "source": [
    "# Thêm cột 'FL_NUMBER' với giá trị mặc định 0 (hoặc giá trị phù hợp)\n",
    "test_data_new['FL_NUMBER'] = 0\n",
    "\n",
    "# Áp dụng mã hóa one-hot cho dữ liệu thử nghiệm mới\n",
    "test_encoded_features = pd.DataFrame(encoder.transform(test_data_new[categorical_features]))\n",
    "test_encoded_features.columns = encoder.get_feature_names_out(categorical_features)\n",
    "\n",
    "# Kết hợp dữ liệu thử nghiệm mới với các cột số đã chuẩn hóa\n",
    "test_data_new = test_data_new.drop(columns=categorical_features)\n",
    "test_data_new = pd.concat([test_data_new, test_encoded_features], axis=1)\n",
    "\n",
    "# Chuẩn hóa các đặc trưng số trong dữ liệu thử nghiệm mới\n",
    "test_data_new[numeric_features] = scaler.transform(test_data_new[numeric_features])\n",
    "\n",
    "# Đảm bảo dữ liệu thử nghiệm mới có cùng các đặc trưng và thứ tự với X_train\n",
    "test_data_new = test_data_new[X_train_columns]"
   ],
   "metadata": {
    "collapsed": false,
    "ExecuteTime": {
     "end_time": "2024-05-31T21:13:25.934090800Z",
     "start_time": "2024-05-31T21:13:25.891794100Z"
    }
   },
   "id": "d6996da4fe6edafe"
  },
  {
   "cell_type": "code",
   "execution_count": 50,
   "outputs": [
    {
     "name": "stdout",
     "output_type": "stream",
     "text": [
      "1/1 [==============================] - 0s 74ms/step\n",
      "Dự đoán độ trễ của các chuyến bay mới:\n",
      "Chuyến bay 1: 14.871678352355957 phút\n",
      "Chuyến bay 2: 11.6683931350708 phút\n"
     ]
    }
   ],
   "source": [
    "\n",
    "# Dự đoán độ trễ của chuyến bay với mô hình đã huấn luyện\n",
    "predicted_delay_new = model.predict(test_data_new)\n",
    "\n",
    "# In kết quả dự đoán\n",
    "print(\"Dự đoán độ trễ của các chuyến bay mới:\")\n",
    "for i in range(len(predicted_delay_new)):\n",
    "    print(f\"Chuyến bay {i+1}: {predicted_delay_new[i][0]} phút\")"
   ],
   "metadata": {
    "collapsed": false,
    "ExecuteTime": {
     "end_time": "2024-05-31T21:13:26.090035300Z",
     "start_time": "2024-05-31T21:13:25.937124700Z"
    }
   },
   "id": "db51ebb1835fe46b"
  },
  {
   "cell_type": "code",
   "execution_count": 51,
   "outputs": [
    {
     "data": {
      "text/plain": "<Figure size 800x500 with 1 Axes>",
      "image/png": "[encoded data removed]"
     },
     "metadata": {},
     "output_type": "display_data"
    }
   ],
   "source": [
    "# Danh sách các chỉ số đánh giá\n",
    "metrics = ['MSE', 'MAE']\n",
    "\n",
    "# Giá trị của các chỉ số tương ứng\n",
    "values = [mse, mae]\n",
    "\n",
    "# Vẽ biểu đồ\n",
    "plt.figure(figsize=(8, 5))\n",
    "plt.bar(metrics, values, color=['blue', 'green'])\n",
    "plt.title('Đánh giá mô hình')\n",
    "plt.xlabel('Chỉ số')\n",
    "plt.ylabel('Giá trị')\n",
    "plt.show()"
   ],
   "metadata": {
    "collapsed": false,
    "ExecuteTime": {
     "end_time": "2024-05-31T21:13:26.371011Z",
     "start_time": "2024-05-31T21:13:26.088530400Z"
    }
   },
   "id": "42480faa15c40213"
  },
  {
   "cell_type": "code",
   "execution_count": 51,
   "outputs": [],
   "source": [],
   "metadata": {
    "collapsed": false,
    "ExecuteTime": {
     "end_time": "2024-05-31T21:13:26.426402100Z",
     "start_time": "2024-05-31T21:13:26.371011Z"
    }
   },
   "id": "268ba49780590d78"
  }
 ],
 "metadata": {
  "kernelspec": {
   "display_name": "Python 3",
   "language": "python",
   "name": "python3"
  },
  "language_info": {
   "codemirror_mode": {
    "name": "ipython",
    "version": 2
   },
   "file_extension": ".py",
   "mimetype": "text/x-python",
   "name": "python",
   "nbconvert_exporter": "python",
   "pygments_lexer": "ipython2",
   "version": "2.7.6"
  }
 },
 "nbformat": 4,
 "nbformat_minor": 5
}
