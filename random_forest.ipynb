{
 "cells": [
  {
   "cell_type": "code",
   "execution_count": 17,
   "id": "initial_id",
   "metadata": {
    "collapsed": true,
    "ExecuteTime": {
     "end_time": "2024-06-01T10:01:31.259609300Z",
     "start_time": "2024-06-01T10:01:31.185366300Z"
    }
   },
   "outputs": [],
   "source": [
    "import pandas as pd\n",
    "from sklearn.model_selection import train_test_split\n",
    "from sklearn.ensemble import RandomForestRegressor\n",
    "from sklearn.metrics import mean_squared_error, mean_absolute_error\n",
    "import matplotlib.pyplot as plt\n",
    "import seaborn as sns\n",
    "import pickle\n",
    "from sklearn.preprocessing import OneHotEncoder, StandardScaler"
   ]
  },
  {
   "cell_type": "code",
   "execution_count": 18,
   "outputs": [],
   "source": [
    "flight_data_2023 = pd.read_csv(\"fl2023_train.csv\")"
   ],
   "metadata": {
    "collapsed": false,
    "ExecuteTime": {
     "end_time": "2024-06-01T10:01:32.744868200Z",
     "start_time": "2024-06-01T10:01:31.202995200Z"
    }
   },
   "id": "930034e108715a01"
  },
  {
   "cell_type": "code",
   "execution_count": 19,
   "outputs": [
    {
     "data": {
      "text/plain": "(463464, 32)"
     },
     "execution_count": 19,
     "metadata": {},
     "output_type": "execute_result"
    }
   ],
   "source": [
    "flight_data_2023.shape"
   ],
   "metadata": {
    "collapsed": false,
    "ExecuteTime": {
     "end_time": "2024-06-01T10:01:32.763999Z",
     "start_time": "2024-06-01T10:01:32.747376600Z"
    }
   },
   "id": "35976fdbe96b4e67"
  },
  {
   "cell_type": "code",
   "execution_count": 20,
   "outputs": [],
   "source": [
    "# Loại bỏ các cột không cần thiết\n",
    "flight_data_2023 = flight_data_2023.drop(columns=['AIRLINE_DOT', 'AIRLINE_CODE', 'DOT_CODE', 'ORIGIN_CITY', 'DEST_CITY', 'CANCELLED', 'CANCELLATION_CODE', 'DIVERTED', 'FL_DATE'])\n",
    "flight_data_2023 = flight_data_2023.dropna()"
   ],
   "metadata": {
    "collapsed": false,
    "ExecuteTime": {
     "end_time": "2024-06-01T10:01:32.905074800Z",
     "start_time": "2024-06-01T10:01:32.762777700Z"
    }
   },
   "id": "10332ff7ba73f836"
  },
  {
   "cell_type": "code",
   "execution_count": 21,
   "outputs": [],
   "source": [
    "# One-hot encoding\n",
    "categorical_features = ['AIRLINE', 'ORIGIN', 'DEST']\n",
    "encoder = OneHotEncoder(sparse_output=False)\n",
    "encoded_features = pd.DataFrame(encoder.fit_transform(flight_data_2023[categorical_features]))\n",
    "encoded_features.columns = encoder.get_feature_names_out(categorical_features)\n",
    "encoded_features.index = flight_data_2023.index"
   ],
   "metadata": {
    "collapsed": false,
    "ExecuteTime": {
     "end_time": "2024-06-01T10:01:33.131920500Z",
     "start_time": "2024-06-01T10:01:32.898932600Z"
    }
   },
   "id": "126a35ef4969c3f9"
  },
  {
   "cell_type": "code",
   "execution_count": 22,
   "outputs": [],
   "source": [
    "# Kết hợp dữ liệu đã mã hóa với các cột khác\n",
    "data = flight_data_2023.drop(columns=categorical_features)\n",
    "data = pd.concat([data, encoded_features], axis=1)"
   ],
   "metadata": {
    "collapsed": false,
    "ExecuteTime": {
     "end_time": "2024-06-01T10:01:33.987396700Z",
     "start_time": "2024-06-01T10:01:33.134054200Z"
    }
   },
   "id": "d0ca3dd65cb2d0bb"
  },
  {
   "cell_type": "code",
   "execution_count": 23,
   "outputs": [],
   "source": [
    "# Chuyển tất cả các cột dữ liệu sang kiểu float\n",
    "data = data.astype(float)\n",
    "\n",
    "# Chuẩn hóa các cột số\n",
    "numeric_features = ['CRS_DEP_TIME', 'DEP_TIME', 'DEP_DELAY', 'TAXI_OUT', 'WHEELS_OFF', 'WHEELS_ON', 'TAXI_IN',\n",
    "                    'CRS_ARR_TIME', 'ARR_TIME', 'CRS_ELAPSED_TIME', 'ELAPSED_TIME', 'AIR_TIME',\n",
    "                    'DISTANCE', 'DELAY_DUE_CARRIER', 'DELAY_DUE_WEATHER', 'DELAY_DUE_NAS', 'DELAY_DUE_SECURITY',\n",
    "                    'DELAY_DUE_LATE_AIRCRAFT']\n",
    "scaler = StandardScaler()\n",
    "data[numeric_features] = scaler.fit_transform(data[numeric_features])"
   ],
   "metadata": {
    "collapsed": false,
    "ExecuteTime": {
     "end_time": "2024-06-01T10:01:34.237765600Z",
     "start_time": "2024-06-01T10:01:33.990663200Z"
    }
   },
   "id": "de8ba3d819e9e223"
  },
  {
   "cell_type": "code",
   "execution_count": 24,
   "outputs": [],
   "source": [
    "# Tách dữ liệu thành tập huấn luyện và kiểm tra\n",
    "X = data.drop(columns=['ARR_DELAY'])\n",
    "y = data['ARR_DELAY']\n",
    "# Chia dữ liệu thành tập huấn luyện và tập kiểm tra\n",
    "X_train, X_test, y_train, y_test = train_test_split(X, y, test_size=0.2, random_state=42)"
   ],
   "metadata": {
    "collapsed": false,
    "ExecuteTime": {
     "end_time": "2024-06-01T10:01:35.054628300Z",
     "start_time": "2024-06-01T10:01:34.249785100Z"
    }
   },
   "id": "4bce0027c4756f88"
  },
  {
   "cell_type": "code",
   "execution_count": 25,
   "outputs": [],
   "source": [
    "# Khởi tạo và huấn luyện mô hình Random Forest\n",
    "rf = RandomForestRegressor(n_estimators=100, random_state=42)\n",
    "rf.fit(X_train, y_train)\n",
    "\n",
    "# Dự đoán trên tập kiểm tra\n",
    "y_pred = rf.predict(X_test)"
   ],
   "metadata": {
    "collapsed": false,
    "ExecuteTime": {
     "end_time": "2024-06-01T10:07:58.634488500Z",
     "start_time": "2024-06-01T10:01:35.028964200Z"
    }
   },
   "id": "c494242d369e22da"
  },
  {
   "cell_type": "code",
   "execution_count": 26,
   "outputs": [
    {
     "name": "stdout",
     "output_type": "stream",
     "text": [
      "MSE: 20.436897362763368\n",
      "MAE: 1.4193335244374372\n"
     ]
    }
   ],
   "source": [
    "# Đánh giá mô hình\n",
    "mse = mean_squared_error(y_test, y_pred)\n",
    "mae = mean_absolute_error(y_test, y_pred)\n",
    "\n",
    "print(f'MSE: {mse}')\n",
    "print(f'MAE: {mae}')"
   ],
   "metadata": {
    "collapsed": false,
    "ExecuteTime": {
     "end_time": "2024-06-01T10:07:58.650764700Z",
     "start_time": "2024-06-01T10:07:58.636518700Z"
    }
   },
   "id": "36867eb0463c7dcf"
  },
  {
   "cell_type": "code",
   "execution_count": 27,
   "outputs": [],
   "source": [
    "# Lưu mô hình Random Forest vào thư mục đã chỉ định\n",
    "with open('C:\\\\pycharm\\\\Flight-delay-forecast-master\\\\random_forest\\\\random_forest_model.pkl', 'wb') as f:\n",
    "    pickle.dump(rf, f)"
   ],
   "metadata": {
    "collapsed": false,
    "ExecuteTime": {
     "end_time": "2024-06-01T10:07:58.994596500Z",
     "start_time": "2024-06-01T10:07:58.652778300Z"
    }
   },
   "id": "b7d7c5634a382832"
  },
  {
   "cell_type": "code",
   "execution_count": 28,
   "outputs": [
    {
     "data": {
      "text/plain": "<Figure size 1000x600 with 1 Axes>",
      "image/png": "[encoded data removed]"
     },
     "metadata": {},
     "output_type": "display_data"
    }
   ],
   "source": [
    "# Vẽ biểu đồ\n",
    "plt.figure(figsize=(10, 6))\n",
    "sns.scatterplot(x=y_test, y=y_pred, alpha=0.3)\n",
    "plt.plot([min(y_test), max(y_test)], [min(y_test), max(y_test)], '--r')\n",
    "plt.xlabel('True Values')\n",
    "plt.ylabel('Predicted Values')\n",
    "plt.title('True vs Predicted Values')\n",
    "plt.show()"
   ],
   "metadata": {
    "collapsed": false,
    "ExecuteTime": {
     "end_time": "2024-06-01T10:07:59.351732200Z",
     "start_time": "2024-06-01T10:07:58.998101200Z"
    }
   },
   "id": "326e4e138ed0704c"
  },
  {
   "cell_type": "code",
   "execution_count": 33,
   "outputs": [
    {
     "name": "stdout",
     "output_type": "stream",
     "text": [
      "Test MSE: 0.0016833333333333858\n",
      "Test MAE: 0.01833333333333383\n",
      "Dự đoán độ trễ của các chuyến bay mới:\n",
      "Chuyến bay 1: 19.0 phút\n",
      "Chuyến bay 2: 17.0 phút\n",
      "Chuyến bay 3: 19.0 phút\n",
      "Chuyến bay 4: 57.9 phút\n",
      "Chuyến bay 5: 28.0 phút\n",
      "Chuyến bay 6: 20.99 phút\n"
     ]
    }
   ],
   "source": [
    "# Tải dữ liệu kiểm tra từ tệp mới\n",
    "test_data = pd.read_csv(\"fl2023_test.csv\")\n",
    "\n",
    "columns_to_drop = ['AIRLINE_DOT', 'AIRLINE_CODE', 'DOT_CODE', 'ORIGIN_CITY', 'DEST_CITY', \n",
    "                   'CANCELLED', 'CANCELLATION_CODE', 'DIVERTED', 'FL_DATE']\n",
    "# Loại bỏ các cột không cần thiết\n",
    "test_data = test_data.drop(columns=columns_to_drop)\n",
    "test_data = test_data.dropna()\n",
    "\n",
    "# One-hot encoding cho các biến phân loại\n",
    "encoded_test_features = pd.DataFrame(encoder.transform(test_data[categorical_features]))\n",
    "encoded_test_features.columns = encoder.get_feature_names_out(categorical_features)\n",
    "encoded_test_features.index = test_data.index\n",
    "\n",
    "# Kết hợp dữ liệu đã mã hóa với các cột khác\n",
    "test_data = test_data.drop(columns=categorical_features)\n",
    "test_data = pd.concat([test_data, encoded_test_features], axis=1)\n",
    "\n",
    "# Chuyển tất cả các cột dữ liệu sang kiểu float\n",
    "test_data = test_data.astype(float)\n",
    "\n",
    "# Chuẩn hóa các cột số\n",
    "test_data[numeric_features] = scaler.transform(test_data[numeric_features])\n",
    "\n",
    "# Tách biến độc lập và phụ thuộc\n",
    "X_test = test_data.drop(columns=['ARR_DELAY'])\n",
    "y_test = test_data['ARR_DELAY']\n",
    "\n",
    "# Tải mô hình đã huấn luyện\n",
    "with open('random_forest/random_forest_model.pkl', 'rb') as f:\n",
    "    rf = pickle.load(f)\n",
    "\n",
    "# Dự đoán trên dữ liệu kiểm tra\n",
    "y_pred_test = rf.predict(X_test)\n",
    "\n",
    "# Đánh giá mô hình trên dữ liệu kiểm tra\n",
    "mse_test = mean_squared_error(y_test, y_pred_test)\n",
    "mae_test = mean_absolute_error(y_test, y_pred_test)\n",
    "\n",
    "print(f'Test MSE: {mse_test}')\n",
    "print(f'Test MAE: {mae_test}')\n",
    "\n",
    "print(\"Dự đoán độ trễ của các chuyến bay mới:\")\n",
    "for i, pred in enumerate(y_pred_test, start=1):\n",
    "    print(f\"Chuyến bay {i}: {pred} phút\")\n",
    "    \n",
    "# Tạo biểu đồ phân phối lỗi dự đoán trên dữ liệu kiểm tra\n",
    "# errors_test = y_test - y_pred_test\n",
    "# plt.figure(figsize=(10, 6))\n",
    "# sns.histplot(errors_test, kde=True, bins=30)\n",
    "# plt.title('Distribution of Prediction Errors on Test Data')\n",
    "# plt.xlabel('Prediction Error')\n",
    "# plt.ylabel('Frequency')\n",
    "# plt.show()\n"
   ],
   "metadata": {
    "collapsed": false,
    "ExecuteTime": {
     "end_time": "2024-06-01T10:20:05.132584200Z",
     "start_time": "2024-06-01T10:20:04.784861100Z"
    }
   },
   "id": "254b97ee0bfb1a67"
  }
 ],
 "metadata": {
  "kernelspec": {
   "display_name": "Python 3",
   "language": "python",
   "name": "python3"
  },
  "language_info": {
   "codemirror_mode": {
    "name": "ipython",
    "version": 2
   },
   "file_extension": ".py",
   "mimetype": "text/x-python",
   "name": "python",
   "nbconvert_exporter": "python",
   "pygments_lexer": "ipython2",
   "version": "2.7.6"
  }
 },
 "nbformat": 4,
 "nbformat_minor": 5
}
